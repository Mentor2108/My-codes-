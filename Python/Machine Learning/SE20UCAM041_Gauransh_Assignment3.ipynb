{
 "cells": [
  {
   "cell_type": "markdown",
   "metadata": {},
   "source": [
    "Converting Dataset and transform NaN and empty cells"
   ]
  },
  {
   "cell_type": "code",
   "execution_count": 1,
   "metadata": {},
   "outputs": [],
   "source": [
    "import pandas as pd\n",
    "iris_data=pd.read_csv(\"Iris_data_sample.csv\")"
   ]
  },
  {
   "cell_type": "code",
   "execution_count": 2,
   "metadata": {},
   "outputs": [
    {
     "name": "stderr",
     "output_type": "stream",
     "text": [
      "C:\\Users\\gaura\\AppData\\Local\\Temp\\ipykernel_15492\\1282686851.py:6: FutureWarning: Dropping of nuisance columns in DataFrame reductions (with 'numeric_only=None') is deprecated; in a future version this will raise TypeError.  Select only valid columns before calling the reduction.\n",
      "  iris_data.fillna(iris_data.mean(), inplace=True)\n"
     ]
    }
   ],
   "source": [
    "# Replacing non-numeric values with NaN and converting columns to numeric\n",
    "for column in ['SepalLengthCm', 'PetalLengthCm']:\n",
    "    iris_data[column] = pd.to_numeric(iris_data[column], errors='coerce')\n",
    "\n",
    "# Now, replacing NaN values with the mean of the respective column\n",
    "iris_data.fillna(iris_data.mean(), inplace=True)\n",
    "\n",
    "# Check the first few rows and data types again after cleaning\n",
    "cleaned_data_head = iris_data.head()\n",
    "cleaned_data_types_summary = iris_data.dtypes"
   ]
  },
  {
   "cell_type": "code",
   "execution_count": 3,
   "metadata": {},
   "outputs": [
    {
     "data": {
      "text/plain": [
       "Unnamed: 0       0\n",
       "SepalLengthCm    0\n",
       "SepalWidthCm     0\n",
       "PetalLengthCm    0\n",
       "PetalWidthCm     0\n",
       "Species          0\n",
       "dtype: int64"
      ]
     },
     "execution_count": 3,
     "metadata": {},
     "output_type": "execute_result"
    }
   ],
   "source": [
    "from sklearn.impute import SimpleImputer\n",
    "\n",
    "# Impute the missing values in the 'Species' column\n",
    "imputer = SimpleImputer(strategy='most_frequent')\n",
    "iris_data['Species'] = imputer.fit_transform(iris_data[['Species']])\n",
    "\n",
    "# Verifyung values\n",
    "missing_values_after_imputation = iris_data.isnull().sum()\n",
    "missing_values_after_imputation"
   ]
  },
  {
   "cell_type": "markdown",
   "metadata": {},
   "source": [
    "**kNN-Classifier**"
   ]
  },
  {
   "cell_type": "code",
   "execution_count": 4,
   "metadata": {},
   "outputs": [
    {
     "name": "stdout",
     "output_type": "stream",
     "text": [
      "For k = 1, Accuracy = 0.9555555555555556\n",
      "For k = 3, Accuracy = 0.9777777777777777\n",
      "For k = 5, Accuracy = 0.9777777777777777\n",
      "For k = 7, Accuracy = 0.9777777777777777\n"
     ]
    }
   ],
   "source": [
    "# Split the dataset into training and testing sets\n",
    "from sklearn.model_selection import train_test_split\n",
    "from sklearn.neighbors import KNeighborsClassifier\n",
    "from sklearn.metrics import accuracy_score, classification_report\n",
    "\n",
    "\n",
    "X = iris_data.iloc[:, 1:-1]  # features (excluding the first column 'Unnamed: 0')\n",
    "y = iris_data.iloc[:, -1]   # target\n",
    "\n",
    "# Split the dataset into training and testing sets\n",
    "X_train, X_test, y_train, y_test = train_test_split(X, y, test_size=0.3, random_state=42)\n",
    "\n",
    "# Train and evaluate kNN classifier for each k value\n",
    "k_values = [1, 3, 5, 7]\n",
    "results = {}\n",
    "\n",
    "for k in k_values:\n",
    "    knn = KNeighborsClassifier(n_neighbors=k)\n",
    "    knn.fit(X_train, y_train)\n",
    "    y_pred = knn.predict(X_test)\n",
    "    accuracy = accuracy_score(y_test, y_pred)\n",
    "    print(\"For k = \", k,\", Accuracy = \", accuracy, sep=\"\")\n",
    "    report = classification_report(y_test, y_pred)\n",
    "    results[k] = {'accuracy': accuracy, 'report': report}"
   ]
  },
  {
   "cell_type": "markdown",
   "metadata": {},
   "source": [
    "*OBSERVATIONS*\n",
    "\n",
    "A slight increase in accuracy as k increased.\n",
    "Best Performance: Achieved with `k=3,5`\n",
    "\n",
    "Insight: Higher values of k\n",
    "k provided more stable and generalized predictions, reducing the effect of noise on classification."
   ]
  },
  {
   "cell_type": "markdown",
   "metadata": {},
   "source": [
    "**kNN-regressor**"
   ]
  },
  {
   "cell_type": "code",
   "execution_count": 5,
   "metadata": {},
   "outputs": [
    {
     "data": {
      "text/plain": [
       "{1: {'MSE': 0.23983084846027955, 'R2 Score': 0.6396665171894449},\n",
       " 3: {'MSE': 0.1381738960707476, 'R2 Score': 0.7924008461616977},\n",
       " 5: {'MSE': 0.11759446191112517, 'R2 Score': 0.8233203847974265},\n",
       " 7: {'MSE': 0.11652735423553982, 'R2 Score': 0.8249236590540376}}"
      ]
     },
     "execution_count": 5,
     "metadata": {},
     "output_type": "execute_result"
    }
   ],
   "source": [
    "from sklearn.neighbors import KNeighborsRegressor\n",
    "from sklearn.metrics import mean_squared_error, r2_score\n",
    "\n",
    "# For regression, we need to choose a numeric target. Let's use 'SepalLengthCm' as the target.\n",
    "# The rest of the features will be used as predictors.\n",
    "X_reg = iris_data.drop(['SepalLengthCm', 'Unnamed: 0', 'Species'], axis=1)\n",
    "y_reg = iris_data['SepalLengthCm']\n",
    "\n",
    "# Split the dataset into training and testing sets for regression\n",
    "X_train_reg, X_test_reg, y_train_reg, y_test_reg = train_test_split(X_reg, y_reg, test_size=0.3, random_state=42)\n",
    "\n",
    "# Train and evaluate KNN regressor for each k value\n",
    "k_values = [1, 3, 5, 7]\n",
    "regression_results = {}\n",
    "\n",
    "for k in k_values:\n",
    "    knn_reg = KNeighborsRegressor(n_neighbors=k)\n",
    "    knn_reg.fit(X_train_reg, y_train_reg)\n",
    "    y_pred_reg = knn_reg.predict(X_test_reg)\n",
    "    mse = mean_squared_error(y_test_reg, y_pred_reg)\n",
    "    r2 = r2_score(y_test_reg, y_pred_reg)\n",
    "    regression_results[k] = {'MSE': mse, 'R2 Score': r2}\n",
    "\n",
    "regression_results"
   ]
  },
  {
   "cell_type": "markdown",
   "metadata": {},
   "source": [
    "As with the kNN classifier, the performance of the kNN regressor improved with increasing values of k.\n",
    "Best Performance: Achieved with `k = 7`\n",
    "\n",
    "_For k=7_, showing the lowest Mean Squared Error (MSE) and the highest R² Score, indicating a good fit to the data.\n",
    "Insight: k values leading to better performance, likely due to a more balanced consideration of the neighboring points."
   ]
  },
  {
   "cell_type": "markdown",
   "metadata": {},
   "source": [
    "**Naive-Byes**"
   ]
  },
  {
   "cell_type": "code",
   "execution_count": 6,
   "metadata": {},
   "outputs": [
    {
     "name": "stdout",
     "output_type": "stream",
     "text": [
      "Accuracy = 0.9777777777777777\n"
     ]
    }
   ],
   "source": [
    "from sklearn.naive_bayes import GaussianNB\n",
    "\n",
    "# Naive Bayes classifier\n",
    "nb_classifier = GaussianNB()\n",
    "\n",
    "# Using the same training and testing sets as for kNN classifier\n",
    "# Here, we are considering 'Species' as the target variable again.\n",
    "nb_classifier.fit(X_train, y_train)\n",
    "y_pred_nb = nb_classifier.predict(X_test)\n",
    "\n",
    "# Evaluate the Naive Bayes classifier\n",
    "accuracy_nb = accuracy_score(y_test, y_pred_nb)\n",
    "report_nb = classification_report(y_test, y_pred_nb)\n",
    "\n",
    "print(\"Accuracy =\", accuracy_nb)"
   ]
  }
 ],
 "metadata": {
  "kernelspec": {
   "display_name": "Python 3",
   "language": "python",
   "name": "python3"
  },
  "language_info": {
   "codemirror_mode": {
    "name": "ipython",
    "version": 3
   },
   "file_extension": ".py",
   "mimetype": "text/x-python",
   "name": "python",
   "nbconvert_exporter": "python",
   "pygments_lexer": "ipython3",
   "version": "3.9.13"
  }
 },
 "nbformat": 4,
 "nbformat_minor": 2
}
