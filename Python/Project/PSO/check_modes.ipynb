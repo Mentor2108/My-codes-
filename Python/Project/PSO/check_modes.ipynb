{
 "cells": [
  {
   "cell_type": "code",
   "execution_count": 28,
   "metadata": {},
   "outputs": [],
   "source": [
    "#Importing Modules Needed\n",
    "\n",
    "import csv\n",
    "from random import randint"
   ]
  },
  {
   "cell_type": "code",
   "execution_count": 40,
   "metadata": {},
   "outputs": [],
   "source": [
    "#Generating random data in the csv file\n",
    "n = int(input(\"Enter number of Datapoints to be generated: \"))\n",
    "\n",
    "with open('Data.csv', 'w', newline='') as file:\n",
    "    writer = csv.writer(file)\n",
    "    \n",
    "    for i in range(1, n+1):\n",
    "        writer.writerow([0, randint(-100, 100), i])"
   ]
  },
  {
   "cell_type": "code",
   "execution_count": 41,
   "metadata": {},
   "outputs": [
    {
     "name": "stdout",
     "output_type": "stream",
     "text": [
      "[[0, 5, 1], [0, 56, 2], [0, -70, 3], [0, 87, 4], [0, -84, 5], [0, -72, 6], [0, -55, 7], [0, -11, 8], [0, -92, 9], [0, -41, 10], [0, 13, 11], [0, -53, 12], [0, -58, 13], [0, 37, 14], [0, -79, 15], [0, 55, 16], [0, -13, 17], [0, -76, 18], [0, 68, 19], [0, 90, 20]]\n"
     ]
    }
   ],
   "source": [
    "#Getting data in a variable already stored in the file\n",
    "data = []\n",
    "\n",
    "with open('Data.csv', mode ='r') as file:\n",
    "    csvFile = csv.reader(file)\n",
    "\n",
    "    for i in csvFile:\n",
    "        temp = []\n",
    "        for j in i:\n",
    "            j = int(j)\n",
    "            temp.append(j)\n",
    "        data.append(temp)\n",
    "        # print(data)\n",
    "\n",
    "print(data)"
   ]
  },
  {
   "cell_type": "code",
   "execution_count": 68,
   "metadata": {},
   "outputs": [
    {
     "name": "stdout",
     "output_type": "stream",
     "text": [
      "y-axis Values:  [56, -70, 87, 84, 72, 55, 11, 1, -1, -3, -5]\n"
     ]
    }
   ],
   "source": [
    "#Initialising Variables\n",
    "\n",
    "yData = []\n",
    "for i in range(len(data)):\n",
    "    yData.append(data[i][1])\n",
    "\n",
    "yData = [56, -70, 87, 84, 72, 55, 11, 1, -1, -3, -5]\n",
    "print(\"y-axis Values: \", yData)\n",
    "\n",
    "prev = yData[0]\n",
    "prevSign = -1 if yData[0]<0 else 1\n",
    "trend = 0    #1 -> Increasing, -1 -> Decreasing\n",
    "modes = 0\n",
    "flag = 0"
   ]
  },
  {
   "cell_type": "code",
   "execution_count": 69,
   "metadata": {},
   "outputs": [
    {
     "name": "stdout",
     "output_type": "stream",
     "text": [
      "Case 3 for i =  1\n",
      "Case 3 for i =  2\n",
      "Case 1 for i =  3\n",
      "Number of modes =  3\n"
     ]
    }
   ],
   "source": [
    "#Finding Number of modes based upon the given data\n",
    "\n",
    "for i in range(1, len(yData)):\n",
    "    currSign = -1 if yData[i]<0 else 1\n",
    "    trend = 1 if yData[i-1]<yData[i] else -1\n",
    "    if currSign == 1 and prevSign == 1:\n",
    "        if trend != 1 and flag == 0:\n",
    "            flag = 1\n",
    "            print(\"Case 1 for i = \", i)\n",
    "            modes+=1\n",
    "\n",
    "    elif currSign == -1 and prevSign == -1:\n",
    "        if trend != -1 and flag == 0:\n",
    "            print(\"Case 2 for i = \", i)\n",
    "            modes+=1\n",
    "            flag = 1\n",
    "    else:\n",
    "        if flag == 0:\n",
    "            print(\"Case 3 for i = \", i)\n",
    "            modes+=1\n",
    "        else:\n",
    "            flag = 0\n",
    "    prevSign = currSign\n",
    "print(\"Number of modes = \", modes)"
   ]
  },
  {
   "cell_type": "code",
   "execution_count": 2,
   "metadata": {},
   "outputs": [
    {
     "name": "stdout",
     "output_type": "stream",
     "text": [
      "[8.88178420e-16 2.00000000e+00 8.26813365e-15]\n"
     ]
    }
   ],
   "source": [
    "import numpy as np\n",
    "\n",
    "def polynomial_fit(x, y, degree):\n",
    "    \"\"\"\n",
    "    Fits a polynomial function of the given degree to the given x and y coordinates.\n",
    "    \n",
    "    Arguments:\n",
    "    x -- the x-coordinates of the data points\n",
    "    y -- the y-coordinates of the data points\n",
    "    degree -- the degree of the polynomial function to fit\n",
    "    \n",
    "    Returns:\n",
    "    The coefficients of the polynomial function in decreasing order of degree.\n",
    "    \"\"\"\n",
    "    # Create a Vandermonde matrix of x values\n",
    "    X = np.vander(x, degree+1, increasing=True)\n",
    "    \n",
    "    # Solve the linear equation Xa = y for the coefficients a\n",
    "    coefficients = np.linalg.solve(X.T @ X, X.T @ y)\n",
    "    \n",
    "    return coefficients[::-1]  # Return coefficients in decreasing order of degree\n",
    "\n",
    "# Example usage\n",
    "x = [1, 2, 3, 4, 5]\n",
    "y = [2, 4, 6, 8, 10]\n",
    "degree = 2\n",
    "coefficients = polynomial_fit(x, y, degree)\n",
    "print(coefficients)  # prints [0., 0., 2.]"
   ]
  }
 ],
 "metadata": {
  "kernelspec": {
   "display_name": "Python 3",
   "language": "python",
   "name": "python3"
  },
  "language_info": {
   "codemirror_mode": {
    "name": "ipython",
    "version": 3
   },
   "file_extension": ".py",
   "mimetype": "text/x-python",
   "name": "python",
   "nbconvert_exporter": "python",
   "pygments_lexer": "ipython3",
   "version": "3.11.2"
  },
  "orig_nbformat": 4
 },
 "nbformat": 4,
 "nbformat_minor": 2
}
